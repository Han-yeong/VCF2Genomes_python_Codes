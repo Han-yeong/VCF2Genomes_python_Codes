{
 "cells": [
  {
   "cell_type": "code",
   "execution_count": 50,
   "metadata": {},
   "outputs": [],
   "source": [
    "import vcf \n",
    "import os\n",
    "import io\n",
    "import pandas as pd\n",
    "import numpy as np\n",
    "def read_vcf(path):\n",
    "    with open(path, 'r') as f:\n",
    "        lines = [l for l in f if not l.startswith('##')]\n",
    "    return pd.read_csv(\n",
    "        io.StringIO(''.join(lines)),\n",
    "        dtype={'#CHROM': str, 'POS': int, 'ID': str, 'REF': str, 'ALT': str,\n",
    "               'QUAL': str, 'FILTER': str, 'INFO': str},\n",
    "        sep='\\t'\n",
    "    ).rename(columns={'#CHROM': 'CHROM'})\n",
    "\n",
    "df = read_vcf('C:/Users/김한영/work/env1/pyvcf/test.vcf')\n"
   ]
  },
  {
   "cell_type": "code",
   "execution_count": 73,
   "metadata": {},
   "outputs": [],
   "source": [
    "m1 = np.array(['missense' in str(x) for x in df['INFO'].values])\n",
    "m2 = np.array(['synonymous' in str(x) for x in df['INFO'].values])\n",
    "m3 = np.array(['protein_coding' in str(x) for x in df['INFO'].values])\n",
    "m4 = np.array(['intron' not in str(x) for x in df['INFO'].values])\n",
    "df_sub_1 = df[(m1|m2)]\n",
    "df_sub_3 = df[(m3)]\n",
    "df_sub_4 = df[(m4)]\n",
    "\n",
    "df_sub = df[((m1|m2)&m3)]\n",
    "df_sub_onlymissense = df[(m1)]\n",
    "df_sub_onlymissense.to_csv('SRR7691060_only_missense.csv')"
   ]
  },
  {
   "cell_type": "code",
   "execution_count": 68,
   "metadata": {},
   "outputs": [
    {
     "name": "stdout",
     "output_type": "stream",
     "text": [
      "마스킹 하기 전의 개수 :  (3128244, 10)\n",
      "INFO에서 missense또는 synonymous를 가지는 것은  (111325, 10)\n",
      "INFO에서 protein_coding 을 가지는 것은  (516054, 10)\n",
      "인트론이 없는 것은  (2855208, 10)\n",
      "최종 결과는 (111325, 10)\n"
     ]
    }
   ],
   "source": [
    "print('마스킹 하기 전의 개수 : ',df.shape)\n",
    "print('INFO에서 missense또는 synonymous를 가지는 것은 ', df_sub_1.shape)\n",
    "print('INFO에서 protein_coding 을 가지는 것은 ', df_sub_3.shape)\n",
    "print('인트론이 없는 것은 ', df_sub_4.shape)\n",
    "\n",
    "#print('결과에서 염색체 이름들은  =',df['CHROM'].unique())\n",
    "#print('df_sub[CHROM].unique =',df_sub['CHROM'].unique())\n",
    "#print('df_sub[INFO].unique =',df_sub['INFO'].unique())\n",
    "print('최종 결과는', df_sub.shape)\n"
   ]
  },
  {
   "cell_type": "code",
   "execution_count": 70,
   "metadata": {},
   "outputs": [],
   "source": [
    "df_sub.to_csv('SRR7691060_ann_final.csv')"
   ]
  },
  {
   "cell_type": "code",
   "execution_count": 74,
   "metadata": {},
   "outputs": [],
   "source": [
    "df_sub_onlymissense.to_csv('SRR7691060_only_missense.csv')"
   ]
  },
  {
   "cell_type": "code",
   "execution_count": null,
   "metadata": {},
   "outputs": [],
   "source": []
  }
 ],
 "metadata": {
  "kernelspec": {
   "display_name": "Python 3",
   "language": "python",
   "name": "python3"
  },
  "language_info": {
   "codemirror_mode": {
    "name": "ipython",
    "version": 3
   },
   "file_extension": ".py",
   "mimetype": "text/x-python",
   "name": "python",
   "nbconvert_exporter": "python",
   "pygments_lexer": "ipython3",
   "version": "3.7.7"
  }
 },
 "nbformat": 4,
 "nbformat_minor": 4
}
