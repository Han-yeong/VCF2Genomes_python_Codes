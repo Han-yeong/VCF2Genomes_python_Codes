{
 "cells": [
  {
   "cell_type": "code",
   "execution_count": 69,
   "metadata": {},
   "outputs": [],
   "source": [
    "import pandas as pd\n",
    "import numpy as np"
   ]
  },
  {
   "cell_type": "code",
   "execution_count": 2,
   "metadata": {},
   "outputs": [],
   "source": [
    "df = pd.read_csv('missense_gene_id_test.csv')\n",
    "m1 = ['Os'  in str(x) for x in df['gene_id'].values]\n",
    "df_sub = df[(m1)]\n",
    "df_sub_3 =  df_sub['gene_id']\n",
    "df_sub_4 = df_sub.drop_duplicates('gene_id', keep='first')\n",
    "df_sub_5 = df_sub_4.drop('Unnamed: 0', axis=1 )\n",
    "df_sub_6 = df_sub_5[df_sub_5['gene_id'].map(len) > 11]\n",
    "df_sub_7 = df_sub_6[df_sub_6['gene_id'].map(len) < 13]\n",
    "df_sub_7.to_csv('missense_geneid_list.csv')"
   ]
  },
  {
   "cell_type": "code",
   "execution_count": 181,
   "metadata": {},
   "outputs": [],
   "source": []
  },
  {
   "cell_type": "code",
   "execution_count": null,
   "metadata": {},
   "outputs": [],
   "source": []
  },
  {
   "cell_type": "code",
   "execution_count": null,
   "metadata": {},
   "outputs": [],
   "source": []
  }
 ],
 "metadata": {
  "kernelspec": {
   "display_name": "Python 3",
   "language": "python",
   "name": "python3"
  },
  "language_info": {
   "codemirror_mode": {
    "name": "ipython",
    "version": 3
   },
   "file_extension": ".py",
   "mimetype": "text/x-python",
   "name": "python",
   "nbconvert_exporter": "python",
   "pygments_lexer": "ipython3",
   "version": "3.7.7"
  }
 },
 "nbformat": 4,
 "nbformat_minor": 4
}
